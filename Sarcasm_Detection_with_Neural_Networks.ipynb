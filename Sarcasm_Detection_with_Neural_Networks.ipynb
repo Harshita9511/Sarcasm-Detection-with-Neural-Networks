{
 "cells": [
  {
   "cell_type": "markdown",
   "metadata": {},
   "source": [
    "# Import Libraries"
   ]
  },
  {
   "cell_type": "code",
   "execution_count": 1,
   "metadata": {
    "colab": {
     "base_uri": "https://localhost:8080/",
     "height": 71
    },
    "colab_type": "code",
    "id": "tJEMgPZZcawh",
    "outputId": "455d9f7b-e83b-4a08-ab39-bcda57c94415"
   },
   "outputs": [],
   "source": [
    "import pandas as pd\n",
    "import numpy as np\n",
    "import matplotlib.pyplot as plt\n",
    "import seaborn as sns\n",
    "%matplotlib inline"
   ]
  },
  {
   "cell_type": "markdown",
   "metadata": {},
   "source": [
    "# Load the Dataset"
   ]
  },
  {
   "cell_type": "code",
   "execution_count": 3,
   "metadata": {
    "colab": {
     "base_uri": "https://localhost:8080/",
     "height": 204
    },
    "colab_type": "code",
    "id": "dZm2IUEbcawy",
    "outputId": "e6b1a8c8-7d7c-4b36-a89e-8106b951b95f"
   },
   "outputs": [
    {
     "data": {
      "text/html": [
       "<div>\n",
       "<style scoped>\n",
       "    .dataframe tbody tr th:only-of-type {\n",
       "        vertical-align: middle;\n",
       "    }\n",
       "\n",
       "    .dataframe tbody tr th {\n",
       "        vertical-align: top;\n",
       "    }\n",
       "\n",
       "    .dataframe thead th {\n",
       "        text-align: right;\n",
       "    }\n",
       "</style>\n",
       "<table border=\"1\" class=\"dataframe\">\n",
       "  <thead>\n",
       "    <tr style=\"text-align: right;\">\n",
       "      <th></th>\n",
       "      <th>article_link</th>\n",
       "      <th>headline</th>\n",
       "      <th>is_sarcastic</th>\n",
       "    </tr>\n",
       "  </thead>\n",
       "  <tbody>\n",
       "    <tr>\n",
       "      <th>0</th>\n",
       "      <td>https://www.huffingtonpost.com/entry/versace-b...</td>\n",
       "      <td>former versace store clerk sues over secret 'b...</td>\n",
       "      <td>0</td>\n",
       "    </tr>\n",
       "    <tr>\n",
       "      <th>1</th>\n",
       "      <td>https://www.huffingtonpost.com/entry/roseanne-...</td>\n",
       "      <td>the 'roseanne' revival catches up to our thorn...</td>\n",
       "      <td>0</td>\n",
       "    </tr>\n",
       "    <tr>\n",
       "      <th>2</th>\n",
       "      <td>https://local.theonion.com/mom-starting-to-fea...</td>\n",
       "      <td>mom starting to fear son's web series closest ...</td>\n",
       "      <td>1</td>\n",
       "    </tr>\n",
       "    <tr>\n",
       "      <th>3</th>\n",
       "      <td>https://politics.theonion.com/boehner-just-wan...</td>\n",
       "      <td>boehner just wants wife to listen, not come up...</td>\n",
       "      <td>1</td>\n",
       "    </tr>\n",
       "    <tr>\n",
       "      <th>4</th>\n",
       "      <td>https://www.huffingtonpost.com/entry/jk-rowlin...</td>\n",
       "      <td>j.k. rowling wishes snape happy birthday in th...</td>\n",
       "      <td>0</td>\n",
       "    </tr>\n",
       "  </tbody>\n",
       "</table>\n",
       "</div>"
      ],
      "text/plain": [
       "                                        article_link  ... is_sarcastic\n",
       "0  https://www.huffingtonpost.com/entry/versace-b...  ...            0\n",
       "1  https://www.huffingtonpost.com/entry/roseanne-...  ...            0\n",
       "2  https://local.theonion.com/mom-starting-to-fea...  ...            1\n",
       "3  https://politics.theonion.com/boehner-just-wan...  ...            1\n",
       "4  https://www.huffingtonpost.com/entry/jk-rowlin...  ...            0\n",
       "\n",
       "[5 rows x 3 columns]"
      ]
     },
     "execution_count": 3,
     "metadata": {
      "tags": []
     },
     "output_type": "execute_result"
    }
   ],
   "source": [
    "df=pd.read_json(\"Sarcasm_Headlines_Dataset.json\", lines=True)\n",
    "df.head()"
   ]
  },
  {
   "cell_type": "code",
   "execution_count": 4,
   "metadata": {
    "colab": {
     "base_uri": "https://localhost:8080/",
     "height": 187
    },
    "colab_type": "code",
    "id": "Y67S1zdqcaxE",
    "outputId": "b1afaeea-5657-4e29-b835-dc6131d241fc"
   },
   "outputs": [
    {
     "name": "stdout",
     "output_type": "stream",
     "text": [
      "<class 'pandas.core.frame.DataFrame'>\n",
      "RangeIndex: 26709 entries, 0 to 26708\n",
      "Data columns (total 3 columns):\n",
      " #   Column        Non-Null Count  Dtype \n",
      "---  ------        --------------  ----- \n",
      " 0   article_link  26709 non-null  object\n",
      " 1   headline      26709 non-null  object\n",
      " 2   is_sarcastic  26709 non-null  int64 \n",
      "dtypes: int64(1), object(2)\n",
      "memory usage: 626.1+ KB\n"
     ]
    }
   ],
   "source": [
    "df.info()"
   ]
  },
  {
   "cell_type": "code",
   "execution_count": 5,
   "metadata": {
    "colab": {
     "base_uri": "https://localhost:8080/",
     "height": 68
    },
    "colab_type": "code",
    "id": "JPM2XTqAcaxT",
    "outputId": "a5a74b45-4bd8-43bc-94fd-0d4642ded86d"
   },
   "outputs": [
    {
     "data": {
      "text/plain": [
       "0    14985\n",
       "1    11724\n",
       "Name: is_sarcastic, dtype: int64"
      ]
     },
     "execution_count": 5,
     "metadata": {
      "tags": []
     },
     "output_type": "execute_result"
    }
   ],
   "source": [
    "df['is_sarcastic'].value_counts()"
   ]
  },
  {
   "cell_type": "code",
   "execution_count": 6,
   "metadata": {
    "colab": {
     "base_uri": "https://localhost:8080/",
     "height": 297
    },
    "colab_type": "code",
    "id": "oEE20uw-caxZ",
    "outputId": "c8f76332-3bd3-400c-aa8a-01332aa1defd"
   },
   "outputs": [
    {
     "data": {
      "text/plain": [
       "<matplotlib.axes._subplots.AxesSubplot at 0x7f1b666eb3c8>"
      ]
     },
     "execution_count": 6,
     "metadata": {
      "tags": []
     },
     "output_type": "execute_result"
    },
    {
     "data": {
      "image/png": "[encoded data removed]",
      "text/plain": [
       "<Figure size 432x288 with 1 Axes>"
      ]
     },
     "metadata": {
      "tags": []
     },
     "output_type": "display_data"
    }
   ],
   "source": [
    "sns.set_style('whitegrid')\n",
    "sns.countplot(x='is_sarcastic',data=df, palette='YlGnBu_r')"
   ]
  },
  {
   "cell_type": "markdown",
   "metadata": {},
   "source": [
    "# Train-Test Split"
   ]
  },
  {
   "cell_type": "code",
   "execution_count": 0,
   "metadata": {
    "colab": {},
    "colab_type": "code",
    "id": "MHi3lOUBjv-6"
   },
   "outputs": [],
   "source": [
    "from sklearn.model_selection import train_test_split\n",
    "X=df['headline'].values\n",
    "y=df['is_sarcastic'].values\n",
    "X_train, X_test, y_train, y_test = train_test_split(X, y, test_size=0.30, random_state=42)"
   ]
  },
  {
   "cell_type": "markdown",
   "metadata": {},
   "source": [
    "# Tokenization and Padding"
   ]
  },
  {
   "cell_type": "code",
   "execution_count": 0,
   "metadata": {
    "colab": {},
    "colab_type": "code",
    "id": "NxBAobBmkMuv"
   },
   "outputs": [],
   "source": [
    "vocab_size=10000\n",
    "embedding_dim=16\n",
    "max_length=32\n",
    "trunc_type='post'\n",
    "padding_type='post'\n",
    "oov_tok='<oov>'"
   ]
  },
  {
   "cell_type": "code",
   "execution_count": 0,
   "metadata": {
    "colab": {},
    "colab_type": "code",
    "id": "500tcWRYcaxi"
   },
   "outputs": [],
   "source": [
    "from tensorflow.keras.preprocessing.text import Tokenizer\n",
    "from tensorflow.keras.preprocessing.sequence import pad_sequences\n",
    "\n",
    "tokenizer= Tokenizer(num_words=vocab_size, oov_token=oov_tok)\n",
    "tokenizer.fit_on_texts(X_train)\n",
    "\n",
    "word_index=tokenizer.word_index\n",
    "\n",
    "training_sequences=tokenizer.texts_to_sequences(X_train)\n",
    "training_padded=pad_sequences(training_sequences, maxlen=max_length, padding=padding_type, truncating=trunc_type)\n",
    "\n",
    "testing_sequences=tokenizer.texts_to_sequences(X_test)\n",
    "testing_padded=pad_sequences(testing_sequences, maxlen=max_length, padding=padding_type, truncating=trunc_type)"
   ]
  },
  {
   "cell_type": "markdown",
   "metadata": {},
   "source": [
    "# Building the Model with Word Embedding"
   ]
  },
  {
   "cell_type": "code",
   "execution_count": 0,
   "metadata": {
    "colab": {},
    "colab_type": "code",
    "id": "Gjy6uXZSlVVj"
   },
   "outputs": [],
   "source": [
    "import tensorflow as tf\n",
    "from tensorflow.keras.models import Sequential\n",
    "from tensorflow.keras.layers import Dense, Dropout, Embedding, Flatten"
   ]
  },
  {
   "cell_type": "code",
   "execution_count": 11,
   "metadata": {
    "colab": {
     "base_uri": "https://localhost:8080/",
     "height": 391
    },
    "colab_type": "code",
    "id": "6YKVnHnumCpM",
    "outputId": "25146a8d-0f74-4785-ee7a-ced1069580a0"
   },
   "outputs": [
    {
     "name": "stdout",
     "output_type": "stream",
     "text": [
      "Model: \"sequential\"\n",
      "_________________________________________________________________\n",
      "Layer (type)                 Output Shape              Param #   \n",
      "=================================================================\n",
      "embedding (Embedding)        (None, 32, 16)            160000    \n",
      "_________________________________________________________________\n",
      "flatten (Flatten)            (None, 512)               0         \n",
      "_________________________________________________________________\n",
      "dense (Dense)                (None, 32)                16416     \n",
      "_________________________________________________________________\n",
      "dropout (Dropout)            (None, 32)                0         \n",
      "_________________________________________________________________\n",
      "dense_1 (Dense)              (None, 10)                330       \n",
      "_________________________________________________________________\n",
      "dropout_1 (Dropout)          (None, 10)                0         \n",
      "_________________________________________________________________\n",
      "dense_2 (Dense)              (None, 1)                 11        \n",
      "=================================================================\n",
      "Total params: 176,757\n",
      "Trainable params: 176,757\n",
      "Non-trainable params: 0\n",
      "_________________________________________________________________\n"
     ]
    }
   ],
   "source": [
    "model = Sequential()\n",
    "model.add(Embedding(vocab_size, embedding_dim, input_length=max_length))\n",
    "model.add(Flatten())\n",
    "\n",
    "model.add(Dense(units=32,activation='relu'))\n",
    "model.add(Dropout(0.5))\n",
    "\n",
    "model.add(Dense(units=10,activation='relu'))\n",
    "model.add(Dropout(0.5))\n",
    "\n",
    "model.add(Dense(units=1,activation='sigmoid'))\n",
    "\n",
    "opt = tf.keras.optimizers.Adam(learning_rate=0.0001)\n",
    "model.compile(loss='binary_crossentropy', optimizer=opt, metrics=['accuracy'])\n",
    "model.summary()"
   ]
  },
  {
   "cell_type": "code",
   "execution_count": 0,
   "metadata": {
    "colab": {},
    "colab_type": "code",
    "id": "Eu9fuK7KmGXH"
   },
   "outputs": [],
   "source": [
    "from tensorflow.keras.callbacks import EarlyStopping\n",
    "early_stop = EarlyStopping(monitor='val_loss', mode='min', verbose=1, patience=5)"
   ]
  },
  {
   "cell_type": "code",
   "execution_count": 13,
   "metadata": {
    "colab": {
     "base_uri": "https://localhost:8080/",
     "height": 1000
    },
    "colab_type": "code",
    "id": "eEPIi4sUmzhb",
    "outputId": "a5803b0f-519f-4749-ec2a-7309aad2b5ce"
   },
   "outputs": [
    {
     "name": "stdout",
     "output_type": "stream",
     "text": [
      "Epoch 1/100\n",
      "74/74 [==============================] - 1s 9ms/step - loss: 0.6920 - accuracy: 0.5454 - val_loss: 0.6911 - val_accuracy: 0.5548\n",
      "Epoch 2/100\n",
      "74/74 [==============================] - 0s 5ms/step - loss: 0.6896 - accuracy: 0.5596 - val_loss: 0.6889 - val_accuracy: 0.5546\n",
      "Epoch 3/100\n",
      "74/74 [==============================] - 0s 6ms/step - loss: 0.6872 - accuracy: 0.5603 - val_loss: 0.6869 - val_accuracy: 0.5546\n",
      "Epoch 4/100\n",
      "74/74 [==============================] - 0s 5ms/step - loss: 0.6856 - accuracy: 0.5612 - val_loss: 0.6854 - val_accuracy: 0.5546\n",
      "Epoch 5/100\n",
      "74/74 [==============================] - 0s 5ms/step - loss: 0.6846 - accuracy: 0.5626 - val_loss: 0.6838 - val_accuracy: 0.5546\n",
      "Epoch 6/100\n",
      "74/74 [==============================] - 0s 5ms/step - loss: 0.6826 - accuracy: 0.5628 - val_loss: 0.6812 - val_accuracy: 0.5546\n",
      "Epoch 7/100\n",
      "74/74 [==============================] - 0s 5ms/step - loss: 0.6785 - accuracy: 0.5630 - val_loss: 0.6769 - val_accuracy: 0.5546\n",
      "Epoch 8/100\n",
      "74/74 [==============================] - 0s 6ms/step - loss: 0.6734 - accuracy: 0.5655 - val_loss: 0.6697 - val_accuracy: 0.5547\n",
      "Epoch 9/100\n",
      "74/74 [==============================] - 0s 6ms/step - loss: 0.6646 - accuracy: 0.5702 - val_loss: 0.6582 - val_accuracy: 0.5566\n",
      "Epoch 10/100\n",
      "74/74 [==============================] - 0s 6ms/step - loss: 0.6471 - accuracy: 0.6111 - val_loss: 0.6279 - val_accuracy: 0.6836\n",
      "Epoch 11/100\n",
      "74/74 [==============================] - 0s 6ms/step - loss: 0.6149 - accuracy: 0.6710 - val_loss: 0.5846 - val_accuracy: 0.7757\n",
      "Epoch 12/100\n",
      "74/74 [==============================] - 0s 6ms/step - loss: 0.5763 - accuracy: 0.7171 - val_loss: 0.5383 - val_accuracy: 0.8137\n",
      "Epoch 13/100\n",
      "74/74 [==============================] - 0s 6ms/step - loss: 0.5323 - accuracy: 0.7532 - val_loss: 0.4930 - val_accuracy: 0.8326\n",
      "Epoch 14/100\n",
      "74/74 [==============================] - 0s 6ms/step - loss: 0.4937 - accuracy: 0.7789 - val_loss: 0.4572 - val_accuracy: 0.8425\n",
      "Epoch 15/100\n",
      "74/74 [==============================] - 0s 6ms/step - loss: 0.4582 - accuracy: 0.8016 - val_loss: 0.4270 - val_accuracy: 0.8470\n",
      "Epoch 16/100\n",
      "74/74 [==============================] - 0s 6ms/step - loss: 0.4265 - accuracy: 0.8167 - val_loss: 0.3991 - val_accuracy: 0.8502\n",
      "Epoch 17/100\n",
      "74/74 [==============================] - 0s 6ms/step - loss: 0.4008 - accuracy: 0.8281 - val_loss: 0.3815 - val_accuracy: 0.8544\n",
      "Epoch 18/100\n",
      "74/74 [==============================] - 0s 6ms/step - loss: 0.3765 - accuracy: 0.8392 - val_loss: 0.3652 - val_accuracy: 0.8581\n",
      "Epoch 19/100\n",
      "74/74 [==============================] - 0s 5ms/step - loss: 0.3551 - accuracy: 0.8490 - val_loss: 0.3536 - val_accuracy: 0.8589\n",
      "Epoch 20/100\n",
      "74/74 [==============================] - 0s 6ms/step - loss: 0.3360 - accuracy: 0.8558 - val_loss: 0.3439 - val_accuracy: 0.8617\n",
      "Epoch 21/100\n",
      "74/74 [==============================] - 0s 6ms/step - loss: 0.3205 - accuracy: 0.8647 - val_loss: 0.3360 - val_accuracy: 0.8610\n",
      "Epoch 22/100\n",
      "74/74 [==============================] - 0s 5ms/step - loss: 0.3056 - accuracy: 0.8755 - val_loss: 0.3322 - val_accuracy: 0.8628\n",
      "Epoch 23/100\n",
      "74/74 [==============================] - 0s 5ms/step - loss: 0.2940 - accuracy: 0.9020 - val_loss: 0.3256 - val_accuracy: 0.8643\n",
      "Epoch 24/100\n",
      "74/74 [==============================] - 0s 5ms/step - loss: 0.2816 - accuracy: 0.9076 - val_loss: 0.3219 - val_accuracy: 0.8658\n",
      "Epoch 25/100\n",
      "74/74 [==============================] - 0s 6ms/step - loss: 0.2680 - accuracy: 0.9118 - val_loss: 0.3191 - val_accuracy: 0.8653\n",
      "Epoch 26/100\n",
      "74/74 [==============================] - 0s 5ms/step - loss: 0.2544 - accuracy: 0.9185 - val_loss: 0.3152 - val_accuracy: 0.8660\n",
      "Epoch 27/100\n",
      "74/74 [==============================] - 0s 5ms/step - loss: 0.2447 - accuracy: 0.9229 - val_loss: 0.3148 - val_accuracy: 0.8673\n",
      "Epoch 28/100\n",
      "74/74 [==============================] - 0s 5ms/step - loss: 0.2373 - accuracy: 0.9272 - val_loss: 0.3130 - val_accuracy: 0.8675\n",
      "Epoch 29/100\n",
      "74/74 [==============================] - 0s 5ms/step - loss: 0.2280 - accuracy: 0.9318 - val_loss: 0.3138 - val_accuracy: 0.8697\n",
      "Epoch 30/100\n",
      "74/74 [==============================] - 0s 5ms/step - loss: 0.2196 - accuracy: 0.9333 - val_loss: 0.3128 - val_accuracy: 0.8691\n",
      "Epoch 31/100\n",
      "74/74 [==============================] - 0s 5ms/step - loss: 0.2107 - accuracy: 0.9378 - val_loss: 0.3128 - val_accuracy: 0.8700\n",
      "Epoch 32/100\n",
      "74/74 [==============================] - 0s 5ms/step - loss: 0.2024 - accuracy: 0.9450 - val_loss: 0.3161 - val_accuracy: 0.8697\n",
      "Epoch 33/100\n",
      "74/74 [==============================] - 0s 5ms/step - loss: 0.1950 - accuracy: 0.9466 - val_loss: 0.3162 - val_accuracy: 0.8695\n",
      "Epoch 34/100\n",
      "74/74 [==============================] - 0s 5ms/step - loss: 0.1899 - accuracy: 0.9511 - val_loss: 0.3167 - val_accuracy: 0.8706\n",
      "Epoch 35/100\n",
      "74/74 [==============================] - 0s 5ms/step - loss: 0.1803 - accuracy: 0.9530 - val_loss: 0.3227 - val_accuracy: 0.8712\n",
      "Epoch 00035: early stopping\n"
     ]
    },
    {
     "data": {
      "text/plain": [
       "<tensorflow.python.keras.callbacks.History at 0x7f1b1fcbb3c8>"
      ]
     },
     "execution_count": 13,
     "metadata": {
      "tags": []
     },
     "output_type": "execute_result"
    }
   ],
   "source": [
    "model.fit(x=training_padded, y=y_train, batch_size=256, epochs=100, validation_data=(testing_padded, y_test), verbose=1, callbacks=[early_stop])"
   ]
  },
  {
   "cell_type": "markdown",
   "metadata": {},
   "source": [
    "# Visualization (Loss & Accuracy)"
   ]
  },
  {
   "cell_type": "code",
   "execution_count": 15,
   "metadata": {
    "colab": {
     "base_uri": "https://localhost:8080/",
     "height": 1000
    },
    "colab_type": "code",
    "id": "T0x244von0qE",
    "outputId": "8832b454-a9b4-440c-ae3f-88a69a5ad2ea"
   },
   "outputs": [
    {
     "data": {
      "text/html": [
       "<div>\n",
       "<style scoped>\n",
       "    .dataframe tbody tr th:only-of-type {\n",
       "        vertical-align: middle;\n",
       "    }\n",
       "\n",
       "    .dataframe tbody tr th {\n",
       "        vertical-align: top;\n",
       "    }\n",
       "\n",
       "    .dataframe thead th {\n",
       "        text-align: right;\n",
       "    }\n",
       "</style>\n",
       "<table border=\"1\" class=\"dataframe\">\n",
       "  <thead>\n",
       "    <tr style=\"text-align: right;\">\n",
       "      <th></th>\n",
       "      <th>loss</th>\n",
       "      <th>accuracy</th>\n",
       "      <th>val_loss</th>\n",
       "      <th>val_accuracy</th>\n",
       "      <th>Epoch</th>\n",
       "    </tr>\n",
       "    <tr>\n",
       "      <th>Epoch</th>\n",
       "      <th></th>\n",
       "      <th></th>\n",
       "      <th></th>\n",
       "      <th></th>\n",
       "      <th></th>\n",
       "    </tr>\n",
       "  </thead>\n",
       "  <tbody>\n",
       "    <tr>\n",
       "      <th>1</th>\n",
       "      <td>0.691972</td>\n",
       "      <td>0.545357</td>\n",
       "      <td>0.691100</td>\n",
       "      <td>0.554848</td>\n",
       "      <td>1</td>\n",
       "    </tr>\n",
       "    <tr>\n",
       "      <th>2</th>\n",
       "      <td>0.689645</td>\n",
       "      <td>0.559638</td>\n",
       "      <td>0.688937</td>\n",
       "      <td>0.554599</td>\n",
       "      <td>2</td>\n",
       "    </tr>\n",
       "    <tr>\n",
       "      <th>3</th>\n",
       "      <td>0.687173</td>\n",
       "      <td>0.560334</td>\n",
       "      <td>0.686917</td>\n",
       "      <td>0.554599</td>\n",
       "      <td>3</td>\n",
       "    </tr>\n",
       "    <tr>\n",
       "      <th>4</th>\n",
       "      <td>0.685551</td>\n",
       "      <td>0.561190</td>\n",
       "      <td>0.685421</td>\n",
       "      <td>0.554599</td>\n",
       "      <td>4</td>\n",
       "    </tr>\n",
       "    <tr>\n",
       "      <th>5</th>\n",
       "      <td>0.684620</td>\n",
       "      <td>0.562580</td>\n",
       "      <td>0.683824</td>\n",
       "      <td>0.554599</td>\n",
       "      <td>5</td>\n",
       "    </tr>\n",
       "    <tr>\n",
       "      <th>6</th>\n",
       "      <td>0.682603</td>\n",
       "      <td>0.562794</td>\n",
       "      <td>0.681157</td>\n",
       "      <td>0.554599</td>\n",
       "      <td>6</td>\n",
       "    </tr>\n",
       "    <tr>\n",
       "      <th>7</th>\n",
       "      <td>0.678450</td>\n",
       "      <td>0.563008</td>\n",
       "      <td>0.676870</td>\n",
       "      <td>0.554599</td>\n",
       "      <td>7</td>\n",
       "    </tr>\n",
       "    <tr>\n",
       "      <th>8</th>\n",
       "      <td>0.673380</td>\n",
       "      <td>0.565469</td>\n",
       "      <td>0.669716</td>\n",
       "      <td>0.554724</td>\n",
       "      <td>8</td>\n",
       "    </tr>\n",
       "    <tr>\n",
       "      <th>9</th>\n",
       "      <td>0.664586</td>\n",
       "      <td>0.570229</td>\n",
       "      <td>0.658200</td>\n",
       "      <td>0.556596</td>\n",
       "      <td>9</td>\n",
       "    </tr>\n",
       "    <tr>\n",
       "      <th>10</th>\n",
       "      <td>0.647062</td>\n",
       "      <td>0.611093</td>\n",
       "      <td>0.627901</td>\n",
       "      <td>0.683639</td>\n",
       "      <td>10</td>\n",
       "    </tr>\n",
       "    <tr>\n",
       "      <th>11</th>\n",
       "      <td>0.614873</td>\n",
       "      <td>0.670999</td>\n",
       "      <td>0.584588</td>\n",
       "      <td>0.775739</td>\n",
       "      <td>11</td>\n",
       "    </tr>\n",
       "    <tr>\n",
       "      <th>12</th>\n",
       "      <td>0.576345</td>\n",
       "      <td>0.717052</td>\n",
       "      <td>0.538274</td>\n",
       "      <td>0.813678</td>\n",
       "      <td>12</td>\n",
       "    </tr>\n",
       "    <tr>\n",
       "      <th>13</th>\n",
       "      <td>0.532318</td>\n",
       "      <td>0.753209</td>\n",
       "      <td>0.493032</td>\n",
       "      <td>0.832647</td>\n",
       "      <td>13</td>\n",
       "    </tr>\n",
       "    <tr>\n",
       "      <th>14</th>\n",
       "      <td>0.493686</td>\n",
       "      <td>0.778883</td>\n",
       "      <td>0.457171</td>\n",
       "      <td>0.842506</td>\n",
       "      <td>14</td>\n",
       "    </tr>\n",
       "    <tr>\n",
       "      <th>15</th>\n",
       "      <td>0.458221</td>\n",
       "      <td>0.801562</td>\n",
       "      <td>0.427025</td>\n",
       "      <td>0.846999</td>\n",
       "      <td>15</td>\n",
       "    </tr>\n",
       "    <tr>\n",
       "      <th>16</th>\n",
       "      <td>0.426501</td>\n",
       "      <td>0.816699</td>\n",
       "      <td>0.399123</td>\n",
       "      <td>0.850243</td>\n",
       "      <td>16</td>\n",
       "    </tr>\n",
       "    <tr>\n",
       "      <th>17</th>\n",
       "      <td>0.400810</td>\n",
       "      <td>0.828092</td>\n",
       "      <td>0.381544</td>\n",
       "      <td>0.854362</td>\n",
       "      <td>17</td>\n",
       "    </tr>\n",
       "    <tr>\n",
       "      <th>18</th>\n",
       "      <td>0.376546</td>\n",
       "      <td>0.839217</td>\n",
       "      <td>0.365179</td>\n",
       "      <td>0.858106</td>\n",
       "      <td>18</td>\n",
       "    </tr>\n",
       "    <tr>\n",
       "      <th>19</th>\n",
       "      <td>0.355098</td>\n",
       "      <td>0.848952</td>\n",
       "      <td>0.353601</td>\n",
       "      <td>0.858854</td>\n",
       "      <td>19</td>\n",
       "    </tr>\n",
       "    <tr>\n",
       "      <th>20</th>\n",
       "      <td>0.335967</td>\n",
       "      <td>0.855798</td>\n",
       "      <td>0.343915</td>\n",
       "      <td>0.861725</td>\n",
       "      <td>20</td>\n",
       "    </tr>\n",
       "    <tr>\n",
       "      <th>21</th>\n",
       "      <td>0.320542</td>\n",
       "      <td>0.864730</td>\n",
       "      <td>0.336007</td>\n",
       "      <td>0.860976</td>\n",
       "      <td>21</td>\n",
       "    </tr>\n",
       "    <tr>\n",
       "      <th>22</th>\n",
       "      <td>0.305588</td>\n",
       "      <td>0.875481</td>\n",
       "      <td>0.332202</td>\n",
       "      <td>0.862848</td>\n",
       "      <td>22</td>\n",
       "    </tr>\n",
       "    <tr>\n",
       "      <th>23</th>\n",
       "      <td>0.293974</td>\n",
       "      <td>0.901958</td>\n",
       "      <td>0.325619</td>\n",
       "      <td>0.864345</td>\n",
       "      <td>23</td>\n",
       "    </tr>\n",
       "    <tr>\n",
       "      <th>24</th>\n",
       "      <td>0.281560</td>\n",
       "      <td>0.907574</td>\n",
       "      <td>0.321882</td>\n",
       "      <td>0.865843</td>\n",
       "      <td>24</td>\n",
       "    </tr>\n",
       "    <tr>\n",
       "      <th>25</th>\n",
       "      <td>0.267985</td>\n",
       "      <td>0.911799</td>\n",
       "      <td>0.319053</td>\n",
       "      <td>0.865344</td>\n",
       "      <td>25</td>\n",
       "    </tr>\n",
       "    <tr>\n",
       "      <th>26</th>\n",
       "      <td>0.254422</td>\n",
       "      <td>0.918539</td>\n",
       "      <td>0.315189</td>\n",
       "      <td>0.865968</td>\n",
       "      <td>26</td>\n",
       "    </tr>\n",
       "    <tr>\n",
       "      <th>27</th>\n",
       "      <td>0.244730</td>\n",
       "      <td>0.922925</td>\n",
       "      <td>0.314817</td>\n",
       "      <td>0.867341</td>\n",
       "      <td>27</td>\n",
       "    </tr>\n",
       "    <tr>\n",
       "      <th>28</th>\n",
       "      <td>0.237303</td>\n",
       "      <td>0.927204</td>\n",
       "      <td>0.312953</td>\n",
       "      <td>0.867465</td>\n",
       "      <td>28</td>\n",
       "    </tr>\n",
       "    <tr>\n",
       "      <th>29</th>\n",
       "      <td>0.228047</td>\n",
       "      <td>0.931750</td>\n",
       "      <td>0.313782</td>\n",
       "      <td>0.869712</td>\n",
       "      <td>29</td>\n",
       "    </tr>\n",
       "    <tr>\n",
       "      <th>30</th>\n",
       "      <td>0.219615</td>\n",
       "      <td>0.933301</td>\n",
       "      <td>0.312808</td>\n",
       "      <td>0.869088</td>\n",
       "      <td>30</td>\n",
       "    </tr>\n",
       "    <tr>\n",
       "      <th>31</th>\n",
       "      <td>0.210678</td>\n",
       "      <td>0.937794</td>\n",
       "      <td>0.312838</td>\n",
       "      <td>0.869961</td>\n",
       "      <td>31</td>\n",
       "    </tr>\n",
       "    <tr>\n",
       "      <th>32</th>\n",
       "      <td>0.202394</td>\n",
       "      <td>0.944961</td>\n",
       "      <td>0.316106</td>\n",
       "      <td>0.869712</td>\n",
       "      <td>32</td>\n",
       "    </tr>\n",
       "    <tr>\n",
       "      <th>33</th>\n",
       "      <td>0.195028</td>\n",
       "      <td>0.946620</td>\n",
       "      <td>0.316214</td>\n",
       "      <td>0.869462</td>\n",
       "      <td>33</td>\n",
       "    </tr>\n",
       "    <tr>\n",
       "      <th>34</th>\n",
       "      <td>0.189923</td>\n",
       "      <td>0.951113</td>\n",
       "      <td>0.316724</td>\n",
       "      <td>0.870585</td>\n",
       "      <td>34</td>\n",
       "    </tr>\n",
       "    <tr>\n",
       "      <th>35</th>\n",
       "      <td>0.180259</td>\n",
       "      <td>0.953038</td>\n",
       "      <td>0.322664</td>\n",
       "      <td>0.871209</td>\n",
       "      <td>35</td>\n",
       "    </tr>\n",
       "  </tbody>\n",
       "</table>\n",
       "</div>"
      ],
      "text/plain": [
       "           loss  accuracy  val_loss  val_accuracy  Epoch\n",
       "Epoch                                                   \n",
       "1      0.691972  0.545357  0.691100      0.554848      1\n",
       "2      0.689645  0.559638  0.688937      0.554599      2\n",
       "3      0.687173  0.560334  0.686917      0.554599      3\n",
       "4      0.685551  0.561190  0.685421      0.554599      4\n",
       "5      0.684620  0.562580  0.683824      0.554599      5\n",
       "6      0.682603  0.562794  0.681157      0.554599      6\n",
       "7      0.678450  0.563008  0.676870      0.554599      7\n",
       "8      0.673380  0.565469  0.669716      0.554724      8\n",
       "9      0.664586  0.570229  0.658200      0.556596      9\n",
       "10     0.647062  0.611093  0.627901      0.683639     10\n",
       "11     0.614873  0.670999  0.584588      0.775739     11\n",
       "12     0.576345  0.717052  0.538274      0.813678     12\n",
       "13     0.532318  0.753209  0.493032      0.832647     13\n",
       "14     0.493686  0.778883  0.457171      0.842506     14\n",
       "15     0.458221  0.801562  0.427025      0.846999     15\n",
       "16     0.426501  0.816699  0.399123      0.850243     16\n",
       "17     0.400810  0.828092  0.381544      0.854362     17\n",
       "18     0.376546  0.839217  0.365179      0.858106     18\n",
       "19     0.355098  0.848952  0.353601      0.858854     19\n",
       "20     0.335967  0.855798  0.343915      0.861725     20\n",
       "21     0.320542  0.864730  0.336007      0.860976     21\n",
       "22     0.305588  0.875481  0.332202      0.862848     22\n",
       "23     0.293974  0.901958  0.325619      0.864345     23\n",
       "24     0.281560  0.907574  0.321882      0.865843     24\n",
       "25     0.267985  0.911799  0.319053      0.865344     25\n",
       "26     0.254422  0.918539  0.315189      0.865968     26\n",
       "27     0.244730  0.922925  0.314817      0.867341     27\n",
       "28     0.237303  0.927204  0.312953      0.867465     28\n",
       "29     0.228047  0.931750  0.313782      0.869712     29\n",
       "30     0.219615  0.933301  0.312808      0.869088     30\n",
       "31     0.210678  0.937794  0.312838      0.869961     31\n",
       "32     0.202394  0.944961  0.316106      0.869712     32\n",
       "33     0.195028  0.946620  0.316214      0.869462     33\n",
       "34     0.189923  0.951113  0.316724      0.870585     34\n",
       "35     0.180259  0.953038  0.322664      0.871209     35"
      ]
     },
     "execution_count": 15,
     "metadata": {
      "tags": []
     },
     "output_type": "execute_result"
    }
   ],
   "source": [
    "df_m=pd.DataFrame(model.history.history)\n",
    "df_m['Epoch']=range(1,36)\n",
    "df_m.index=df_m['Epoch']\n",
    "df_m"
   ]
  },
  {
   "cell_type": "code",
   "execution_count": 16,
   "metadata": {
    "colab": {
     "base_uri": "https://localhost:8080/",
     "height": 51
    },
    "colab_type": "code",
    "id": "jAoSmvQ-p_fE",
    "outputId": "abcc8941-e0d6-4299-ed47-7c7439611a5e"
   },
   "outputs": [
    {
     "name": "stdout",
     "output_type": "stream",
     "text": [
      "126/126 [==============================] - 0s 1ms/step - loss: 0.3227 - accuracy: 0.8712\n",
      "Test accuracy: 0.8712092638015747\n"
     ]
    }
   ],
   "source": [
    "score = model.evaluate(testing_padded, y_test, batch_size=64, verbose=1)\n",
    "print('Test accuracy:', score[1])"
   ]
  },
  {
   "cell_type": "code",
   "execution_count": 17,
   "metadata": {
    "colab": {
     "base_uri": "https://localhost:8080/",
     "height": 295
    },
    "colab_type": "code",
    "id": "s8nQjnYJqTvO",
    "outputId": "a079a654-9c74-4af8-8d4f-75208e96f90d"
   },
   "outputs": [
    {
     "data": {
      "image/png": "[encoded data removed]",
      "text/plain": [
       "<Figure size 432x288 with 1 Axes>"
      ]
     },
     "metadata": {
      "tags": []
     },
     "output_type": "display_data"
    }
   ],
   "source": [
    "#Loss Graph(Training and Validation)\n",
    "plt.plot(df_m['loss'])\n",
    "plt.plot(df_m['val_loss'])\n",
    "plt.title('model loss')\n",
    "plt.ylabel('loss')\n",
    "plt.xlabel('epoch')\n",
    "plt.legend(['train_loss', 'val_loss'])\n",
    "plt.show()"
   ]
  },
  {
   "cell_type": "code",
   "execution_count": 18,
   "metadata": {
    "colab": {
     "base_uri": "https://localhost:8080/",
     "height": 295
    },
    "colab_type": "code",
    "id": "7tTvRBISqTtv",
    "outputId": "de086038-701d-4975-ab57-a64cea499b20"
   },
   "outputs": [
    {
     "data": {
      "image/png": "[encoded data removed]",
      "text/plain": [
       "<Figure size 432x288 with 1 Axes>"
      ]
     },
     "metadata": {
      "tags": []
     },
     "output_type": "display_data"
    }
   ],
   "source": [
    "# Accuracy Graph(Training and Validation) \n",
    "plt.plot(df_m['accuracy'])\n",
    "plt.plot(df_m['val_accuracy'])\n",
    "plt.title('model accuracy')\n",
    "plt.ylabel('accuracy')\n",
    "plt.xlabel('epoch')\n",
    "plt.legend(['train_acc', 'val_acc'])\n",
    "plt.show()"
   ]
  }
 ],
 "metadata": {
  "colab": {
   "collapsed_sections": [],
   "name": "A Sarcasm Detection Model Based on Word Embeddings with Neural Networks.ipynb",
   "provenance": []
  },
  "kernelspec": {
   "display_name": "Python 3",
   "language": "python",
   "name": "python3"
  },
  "language_info": {
   "codemirror_mode": {
    "name": "ipython",
    "version": 3
   },
   "file_extension": ".py",
   "mimetype": "text/x-python",
   "name": "python",
   "nbconvert_exporter": "python",
   "pygments_lexer": "ipython3",
   "version": "3.7.4"
  }
 },
 "nbformat": 4,
 "nbformat_minor": 1
}
